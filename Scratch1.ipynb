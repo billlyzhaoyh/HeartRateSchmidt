{
 "cells": [
  {
   "cell_type": "code",
   "execution_count": 1,
   "metadata": {},
   "outputs": [],
   "source": [
    "from scipy.io import loadmat\n",
    "mat = loadmat('test.mat')\n",
    "audio_data=mat['audio_data']\n",
    "audio_Fs=1000"
   ]
  },
  {
   "cell_type": "code",
   "execution_count": 2,
   "metadata": {},
   "outputs": [],
   "source": [
    "def butterworth_low_pass_filter(original_signal,order,cutoff,sampling_frequency, figure=False):\n",
    "    from scipy import signal\n",
    "    import numpy as np\n",
    "    b, a = signal.butter(order, 2*cutoff/sampling_frequency, 'low')\n",
    "    low_pass_filtered_signal = signal.filtfilt(b, a, np.squeeze(original_signal),padlen=3*max(len(a), len(b))-3)\n",
    "    return low_pass_filtered_signal\n",
    "\n",
    "def butterworth_high_pass_filter(original_signal,order,cutoff,sampling_frequency, figures=False):\n",
    "    from scipy import signal\n",
    "    import numpy as np\n",
    "    b, a = signal.butter(order, 2*cutoff/sampling_frequency, 'high')\n",
    "    high_pass_filtered_signal = signal.filtfilt(b, a,np.squeeze(original_signal),padlen=3*max(len(a), len(b))-3)\n",
    "    return high_pass_filtered_signal\n",
    "\n",
    "#not tested\n",
    "def schmidt_spike_removal(original_signal,fs,figures=False):\n",
    "    from statistics import median\n",
    "    import numpy as np \n",
    "    #Find the window size\n",
    "    windowsize = round(fs/2)\n",
    "    #Find any samples outside of a integer number of windows\n",
    "    trailingsamples = len(original_signal)%windowsize\n",
    "    #Reshape the signal into a number of windows\n",
    "    sampleframes=[original_signal[i*windowsize:(windowsize)+i*windowsize] for i in range((len(original_signal)-(trailingsamples))//windowsize)]\n",
    "    sampleframes=np.array(sampleframes)\n",
    "    #Find the MAAs\n",
    "\n",
    "    MAAs = [ max([abs(number) for number in individual_frame]) for individual_frame in sampleframes]\n",
    "    while any(MAA >median(MAAs)*3 for MAA in MAAs):#Find the window with the max MAA\n",
    "        window_num=np.argmax(MAAs)\n",
    "        #Find the postion of the spike within that window\n",
    "        abssampleframe=[np.abs(number) for number in sampleframes[window_num]]\n",
    "        spike_position=np.argmax(abssampleframe)\n",
    "        #Finding zero crossings (where there may not be actual 0 values, just a change from positive to negative)\n",
    "        selected_window=sampleframes[window_num]\n",
    "        zero_crossings=np.abs(np.diff(np.sign(selected_window)))\n",
    "        zero_crossings=np.append(zero_crossings,0)\n",
    "        zero_crossings=(zero_crossings>1).astype(int)\n",
    "        #Find the start of the spike, finding the last zero crossing before\n",
    "        #spike position. If that is empty, take the start of the window:\n",
    "        zero_crossings_list=zero_crossings.tolist()\n",
    "        start_nonzeros=[i for i, e in enumerate(zero_crossings_list[:spike_position]) if e != 0]\n",
    "        if not start_nonzeros:\n",
    "            spike_start=0\n",
    "        else:\n",
    "            spike_start=start_nonzeros[-1]\n",
    "\n",
    "        #Find the end of the spike, finding the first zero crossing after\n",
    "        #spike position. If that is empty, take the end of the window:\n",
    "        zero_crossings_list[:spike_position] = [0] * (spike_position)\n",
    "        after_nonzeros=[i for i, e in enumerate(zero_crossings_list) if e != 0]\n",
    "        if not after_nonzeros:\n",
    "            spike_end=windowsize\n",
    "        else:\n",
    "            spike_end=after_nonzeros[-1]\n",
    "\n",
    "        #Set to Zero\n",
    "        sampleframes[window_num][spike_start:spike_end] = 0.0001\n",
    "\n",
    "        #Recaclulate MAAs\n",
    "        MAAs = [ max([abs(number) for number in individual_frame]) for individual_frame in sampleframes]\n",
    "\n",
    "    despiked_signal = sampleframes\n",
    "\n",
    "    # Add the trailing samples back to the signal:\n",
    "    despiked_signal=np.append(despiked_signal,np.array(original_signal[despiked_signal.size:-1]))\n",
    "\n",
    "    return despiked_signal\n",
    "def Homomorphic_Envelope_with_Hilbert(input_signal, samplingFrequency,lpf_frequency=8,figures=False):\n",
    "    #8Hz, 1st order, Butterworth LPF\n",
    "    from scipy import signal\n",
    "    import numpy as np\n",
    "    B_low,A_low = signal.butter(1,2*lpf_frequency/samplingFrequency,'low')\n",
    "    hilbert_coeff=np.array(signal.hilbert(input_signal))\n",
    "    homomorphic_envelope = np.exp(signal.filtfilt(B_low,A_low,np.log(np.abs(hilbert_coeff))))\n",
    "    #Remove spurious spikes in first sample:\n",
    "    homomorphic_envelope[0] = homomorphic_envelope[1]\n",
    "\n",
    "    return homomorphic_envelope"
   ]
  },
  {
   "cell_type": "code",
   "execution_count": 3,
   "metadata": {},
   "outputs": [],
   "source": [
    "audio_data=audio_data\n",
    "audio_data = butterworth_low_pass_filter(audio_data,2,400,audio_Fs)\n",
    "audio_data = butterworth_high_pass_filter(audio_data,2,25,audio_Fs)\n",
    "# Spike removal from the original paper:\n",
    "audio_data = schmidt_spike_removal(audio_data,audio_Fs)\n",
    "homomorphic_envelope=Homomorphic_Envelope_with_Hilbert(audio_data, audio_Fs)"
   ]
  },
  {
   "cell_type": "code",
   "execution_count": 7,
   "metadata": {},
   "outputs": [],
   "source": [
    "#compare after spike difference values \n",
    "mat = loadmat('audio_afterspike.mat')\n",
    "audio_data_afterspike=mat['audio_data']"
   ]
  },
  {
   "cell_type": "code",
   "execution_count": null,
   "metadata": {},
   "outputs": [],
   "source": [
    "import numpy as np\n",
    "np.abs(audio_data-audio_data_afterspike)"
   ]
  },
  {
   "cell_type": "code",
   "execution_count": null,
   "metadata": {},
   "outputs": [],
   "source": []
  }
 ],
 "metadata": {
  "kernelspec": {
   "display_name": "Python 3",
   "language": "python",
   "name": "python3"
  },
  "language_info": {
   "codemirror_mode": {
    "name": "ipython",
    "version": 3
   },
   "file_extension": ".py",
   "mimetype": "text/x-python",
   "name": "python",
   "nbconvert_exporter": "python",
   "pygments_lexer": "ipython3",
   "version": "3.6.8"
  }
 },
 "nbformat": 4,
 "nbformat_minor": 2
}
