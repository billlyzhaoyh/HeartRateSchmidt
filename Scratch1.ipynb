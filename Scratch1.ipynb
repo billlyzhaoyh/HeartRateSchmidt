{
 "cells": [
  {
   "cell_type": "code",
   "execution_count": 184,
   "metadata": {},
   "outputs": [],
   "source": [
    "from scipy.io import loadmat\n",
    "mat = loadmat('test.mat')\n",
    "audio_data=mat['audio_data']\n",
    "audio_Fs=1000"
   ]
  },
  {
   "cell_type": "code",
   "execution_count": 185,
   "metadata": {},
   "outputs": [],
   "source": [
    "#now run through each function to compare with the output with matlab"
   ]
  },
  {
   "cell_type": "code",
   "execution_count": 186,
   "metadata": {},
   "outputs": [],
   "source": [
    "def butterworth_low_pass_filter(original_signal,order,cutoff,sampling_frequency, figure=False):\n",
    "    from scipy import signal\n",
    "    b, a = signal.butter(order, 2*cutoff/sampling_frequency, 'low')\n",
    "    print(np.squeeze(original_signal).shape)\n",
    "    low_pass_filtered_signal = signal.filtfilt(b, a, np.squeeze(original_signal),padlen=3*max(len(a), len(b))-3)\n",
    "    return low_pass_filtered_signal"
   ]
  },
  {
   "cell_type": "code",
   "execution_count": 187,
   "metadata": {},
   "outputs": [],
   "source": [
    "mat=loadmat('audio_lowpass.mat')\n",
    "audio_lowpassmat=mat['audio_data_lowpass']"
   ]
  },
  {
   "cell_type": "code",
   "execution_count": 188,
   "metadata": {
    "scrolled": true
   },
   "outputs": [
    {
     "name": "stdout",
     "output_type": "stream",
     "text": [
      "[[ 0.06471533]\n",
      " [ 0.42868168]\n",
      " [ 0.31707522]\n",
      " ...\n",
      " [-0.06511216]\n",
      " [-0.13562029]\n",
      " [-0.1444166 ]]\n"
     ]
    }
   ],
   "source": [
    "print(audio_lowpassmat)"
   ]
  },
  {
   "cell_type": "code",
   "execution_count": 189,
   "metadata": {},
   "outputs": [],
   "source": [
    "b, a = signal.butter(2, 2*400/1000, 'low')"
   ]
  },
  {
   "cell_type": "code",
   "execution_count": 190,
   "metadata": {},
   "outputs": [
    {
     "name": "stdout",
     "output_type": "stream",
     "text": [
      "[0.63894553 1.27789105 0.63894553] [1.        1.1429805 0.4128016]\n"
     ]
    }
   ],
   "source": [
    "print(b,a)"
   ]
  },
  {
   "cell_type": "code",
   "execution_count": 191,
   "metadata": {},
   "outputs": [
    {
     "name": "stdout",
     "output_type": "stream",
     "text": [
      "(29500,)\n"
     ]
    }
   ],
   "source": [
    "audio_lowpass=butterworth_low_pass_filter(audio_data,2,400,audio_Fs)"
   ]
  },
  {
   "cell_type": "code",
   "execution_count": 192,
   "metadata": {},
   "outputs": [
    {
     "name": "stdout",
     "output_type": "stream",
     "text": [
      "[ 0.06471533  0.42868168  0.31707522 ... -0.06511216 -0.13562029\n",
      " -0.1444166 ]\n"
     ]
    }
   ],
   "source": [
    "print(audio_lowpass)"
   ]
  },
  {
   "cell_type": "code",
   "execution_count": 193,
   "metadata": {},
   "outputs": [],
   "source": [
    "#not tested\n",
    "def butterworth_low_pass_filter(original_signal,order,cutoff,sampling_frequency, figure=False):\n",
    "    from scipy import signal\n",
    "    b, a = signal.butter(order, 2*cutoff/sampling_frequency, 'low')\n",
    "    low_pass_filtered_signal = signal.filtfilt(b, a, np.squeeze(original_signal),padlen=3*max(len(a), len(b))-3)\n",
    "    return low_pass_filtered_signal\n",
    "\n",
    "#not tested\n",
    "def butterworth_high_pass_filter(original_signal,order,cutoff,sampling_frequency, figures=False):\n",
    "    from scipy import signal\n",
    "    b, a = signal.butter(order, 2*cutoff/sampling_frequency, 'high')\n",
    "    high_pass_filtered_signal = signal.filtfilt(b, a,np.squeeze(original_signal),padlen=3*max(len(a), len(b))-3)\n",
    "    return high_pass_filtered_signal\n",
    "\n",
    "#not tested\n",
    "def schmidt_spike_removal(original_signal,fs,figures=False):\n",
    "    from statistics import median\n",
    "    import numpy as np \n",
    "    #Find the window size\n",
    "    windowsize = round(fs/2)\n",
    "    #Find any samples outside of a integer number of windows\n",
    "    trailingsamples = len(original_signal)%windowsize\n",
    "    #Reshape the signal into a number of windows\n",
    "\n",
    "    sampleframes=[original_signal[i:(i+windowsize)] for i in range((len(original_signal)-(trailingsamples))//windowsize)]\n",
    "    #Find the MAAs\n",
    "    MAAs = [ max([abs(number) for number in individual_frame]) for individual_frame in sampleframes]\n",
    "\n",
    "    #While there are still samples greater than 3* the median value of the\n",
    "    #MAAs, then remove those spikes:\n",
    "    while any(MAA >median(MAAs)*3 for MAA in MAAs):\n",
    "        #Find the window with the max MAA\n",
    "        val = max(MAAs)\n",
    "        window_num=MAAs.index(val)\n",
    "        if len(window_num)>1:\n",
    "            window_num = window_num[0]\n",
    "        #Find the postion of the spike within that window\n",
    "        abssampleframe=[abs(number) for number in sampleframes[window_num]]\n",
    "        spike_position=abssampleframe.index(max(abssampleframe))\n",
    "        if len(spike_position)>1:\n",
    "            spike_position = spike_position[0]\n",
    "        #Finding zero crossings (where there may not be actual 0 values, just a change from positive to negative)\n",
    "        selected_window=np.array(sampleframes[window_num])\n",
    "        zero_crossings=np.abs(np.diff(np.sign(selected_window)))\n",
    "        zero_crossings.append(0)\n",
    "        zero_crossings=(zero_crossings>1).astype(int)\n",
    "        #Find the start of the spike, finding the last zero crossing before\n",
    "        #spike position. If that is empty, take the start of the window:\n",
    "        zero_crossings_list=zero_crossings.tolist()\n",
    "        start_nonzeros=[i for i, e in enumerate(zero_crossings_list[:spike_position]) if e != 0]\n",
    "        if not start_nonzeros:\n",
    "            spike_start=start_nonzeros[-1]\n",
    "        else:\n",
    "            spike_start=0\n",
    "\n",
    "        #Find the end of the spike, finding the first zero crossing after\n",
    "        #spike position. If that is empty, take the end of the window:\n",
    "        zero_crossings_list[:spike_position] = 0\n",
    "        after_nonzeros==[i for i, e in enumerate(zero_crossings_list) if e != 0]\n",
    "        if not start_nonzeros:\n",
    "            spike_end=start_nonzeros[-1]\n",
    "        else:\n",
    "            spike_end=windowsize\n",
    "\n",
    "        #Set to Zero\n",
    "        sampleframes[window_num][spike_start:spike_end] = 0.0001\n",
    "\n",
    "        #Recaclulate MAAs\n",
    "        MAAs = [ max([abs(number) for number in individual_frame]) for individual_frame in sampleframes]\n",
    "\n",
    "    despiked_signal = np.array(sampleframes)\n",
    "\n",
    "    # Add the trailing samples back to the signal:\n",
    "    despiked_signal=np.append(despiked_signal,np.array(original_signal[despiked_signal.size:-1]))\n",
    "\n",
    "    return despiked_signal\n"
   ]
  },
  {
   "cell_type": "code",
   "execution_count": 194,
   "metadata": {},
   "outputs": [],
   "source": [
    "audio_data=audio_data.T\n",
    "audio_data = butterworth_low_pass_filter(audio_data,2,400,audio_Fs)\n",
    "audio_data = butterworth_high_pass_filter(audio_data,2,25,audio_Fs)\n",
    "# Spike removal from the original paper:\n",
    "#audio_data = schmidt_spike_removal(audio_data,audio_Fs)"
   ]
  },
  {
   "cell_type": "code",
   "execution_count": 195,
   "metadata": {},
   "outputs": [
    {
     "name": "stdout",
     "output_type": "stream",
     "text": [
      "[ 0.01266002  0.3847521   0.28196736 ... -0.01401128 -0.02980423\n",
      "  0.02383006]\n"
     ]
    }
   ],
   "source": [
    "print(audio_data)"
   ]
  },
  {
   "cell_type": "code",
   "execution_count": 196,
   "metadata": {},
   "outputs": [],
   "source": [
    "#schimidt_spike removal not working properly\n",
    "audio_data = schmidt_spike_removal(audio_data,audio_Fs)"
   ]
  },
  {
   "cell_type": "code",
   "execution_count": 216,
   "metadata": {},
   "outputs": [
    {
     "data": {
      "text/plain": [
       "array([ 0.01266002,  0.3847521 ,  0.28196736, ...,  0.42161233,\n",
       "       -0.01321982, -0.21755915])"
      ]
     },
     "execution_count": 216,
     "metadata": {},
     "output_type": "execute_result"
    }
   ],
   "source": [
    "audio_data"
   ]
  },
  {
   "cell_type": "code",
   "execution_count": 208,
   "metadata": {},
   "outputs": [],
   "source": [
    "def Homomorphic_Envelope_with_Hilbert(input_signal, samplingFrequency,lpf_frequency=8,figures=False):\n",
    "    #8Hz, 1st order, Butterworth LPF\n",
    "    from scipy import signal\n",
    "    import numpy as np\n",
    "    B_low,A_low = signal.butter(1,2*lpf_frequency/samplingFrequency,'low')\n",
    "    hilbert_coeff=np.array(signal.hilbert(input_signal))\n",
    "    homomorphic_envelope = np.exp(signal.filtfilt(B_low,A_low,np.squeeze(np.log(np.abs(hilbert_coeff))),padlen=3*max(len(a), len(b))-3))\n",
    "    #Remove spurious spikes in first sample:\n",
    "    homomorphic_envelope[0] = homomorphic_envelope[1]\n",
    "\n",
    "    return homomorphic_envelope"
   ]
  },
  {
   "cell_type": "code",
   "execution_count": 209,
   "metadata": {},
   "outputs": [],
   "source": [
    "homomorphic_envelope = Homomorphic_Envelope_with_Hilbert(audio_data, audio_Fs)"
   ]
  },
  {
   "cell_type": "code",
   "execution_count": 210,
   "metadata": {},
   "outputs": [
    {
     "data": {
      "text/plain": [
       "array([0.41044909, 0.41044909, 0.40104687, ..., 0.36977305, 0.36213315,\n",
       "       0.35464342])"
      ]
     },
     "execution_count": 210,
     "metadata": {},
     "output_type": "execute_result"
    }
   ],
   "source": [
    "homomorphic_envelope"
   ]
  },
  {
   "cell_type": "code",
   "execution_count": 206,
   "metadata": {},
   "outputs": [],
   "source": [
    "B_low,A_low = signal.butter(1,2*8/1000,'low')"
   ]
  },
  {
   "cell_type": "code",
   "execution_count": 207,
   "metadata": {},
   "outputs": [
    {
     "name": "stdout",
     "output_type": "stream",
     "text": [
      "[0.02452161 0.02452161] [ 1.         -0.95095678]\n"
     ]
    }
   ],
   "source": [
    "print(B_low,A_low)"
   ]
  },
  {
   "cell_type": "code",
   "execution_count": 213,
   "metadata": {},
   "outputs": [
    {
     "data": {
      "text/plain": [
       "29500"
      ]
     },
     "execution_count": 213,
     "metadata": {},
     "output_type": "execute_result"
    }
   ],
   "source": [
    "audio_data.shape[-1]"
   ]
  },
  {
   "cell_type": "code",
   "execution_count": 215,
   "metadata": {},
   "outputs": [
    {
     "data": {
      "text/plain": [
       "array([ 0.01266002-0.30094678j,  0.3847521 -0.12993294j,\n",
       "        0.28196736+0.17075956j, ...,  0.42161233+0.40198849j,\n",
       "       -0.01321982+0.37196772j, -0.21755915+0.03602769j])"
      ]
     },
     "execution_count": 215,
     "metadata": {},
     "output_type": "execute_result"
    }
   ],
   "source": [
    "signal.hilbert(audio_data)"
   ]
  },
  {
   "cell_type": "code",
   "execution_count": null,
   "metadata": {},
   "outputs": [],
   "source": []
  }
 ],
 "metadata": {
  "kernelspec": {
   "display_name": "Python 3",
   "language": "python",
   "name": "python3"
  },
  "language_info": {
   "codemirror_mode": {
    "name": "ipython",
    "version": 3
   },
   "file_extension": ".py",
   "mimetype": "text/x-python",
   "name": "python",
   "nbconvert_exporter": "python",
   "pygments_lexer": "ipython3",
   "version": "3.6.8"
  }
 },
 "nbformat": 4,
 "nbformat_minor": 2
}
